{
  "nbformat": 4,
  "nbformat_minor": 0,
  "metadata": {
    "colab": {
      "provenance": [],
      "authorship_tag": "ABX9TyOyCNR7pfy0N+Pv4aN8ra4c",
      "include_colab_link": true
    },
    "kernelspec": {
      "name": "python3",
      "display_name": "Python 3"
    },
    "language_info": {
      "name": "python"
    },
    "accelerator": "GPU",
    "gpuClass": "standard"
  },
  "cells": [
    {
      "cell_type": "markdown",
      "metadata": {
        "id": "view-in-github",
        "colab_type": "text"
      },
      "source": [
        "<a href=\"https://colab.research.google.com/github/secondbonana/vision_catdog/blob/main/keras_catdog_final.ipynb\" target=\"_parent\"><img src=\"https://colab.research.google.com/assets/colab-badge.svg\" alt=\"Open In Colab\"/></a>"
      ]
    },
    {
      "cell_type": "code",
      "execution_count": 1,
      "metadata": {
        "id": "U6IZTjdy-mdN"
      },
      "outputs": [],
      "source": [
        "from google.colab import auth\n",
        "auth.authenticate_user()"
      ]
    },
    {
      "cell_type": "code",
      "source": [
        "from google.colab import drive\n",
        "drive.mount('/content/drive/')"
      ],
      "metadata": {
        "colab": {
          "base_uri": "https://localhost:8080/"
        },
        "id": "Bilk2f37-_Qr",
        "outputId": "e7f13582-0fdd-4d2a-aed9-37607795a58a"
      },
      "execution_count": 2,
      "outputs": [
        {
          "output_type": "stream",
          "name": "stdout",
          "text": [
            "Mounted at /content/drive/\n"
          ]
        }
      ]
    },
    {
      "cell_type": "code",
      "source": [
        "!cp /content/drive/MyDrive/deeplearning/dogs-vs-cats.zip ."
      ],
      "metadata": {
        "id": "Mq2ZFD6Z_Brj"
      },
      "execution_count": 3,
      "outputs": []
    },
    {
      "cell_type": "code",
      "source": [
        "!unzip -q dogs-vs-cats.zip -d catdog"
      ],
      "metadata": {
        "id": "Hk0XlpTx_GlF"
      },
      "execution_count": 4,
      "outputs": []
    },
    {
      "cell_type": "code",
      "source": [
        "!cd catdog; unzip -q test1.zip; unzip -q train.zip"
      ],
      "metadata": {
        "id": "I4kOcNfp_IK-"
      },
      "execution_count": 5,
      "outputs": []
    },
    {
      "cell_type": "code",
      "source": [
        "!cd catdog/train; mkdir dogs; mkdir cats\n",
        "!cd catdog/train; ls | grep -e cat | xargs mv -t cats\n",
        "!cd catdog/train; ls | grep -e dog | xargs mv -t dogs"
      ],
      "metadata": {
        "colab": {
          "base_uri": "https://localhost:8080/"
        },
        "id": "nL4WeOdZAVi5",
        "outputId": "88a81eec-60f7-4d66-cc81-43388cb61533"
      },
      "execution_count": 6,
      "outputs": [
        {
          "output_type": "stream",
          "name": "stdout",
          "text": [
            "mv: cannot move 'cats' to a subdirectory of itself, 'cats/cats'\n",
            "mv: cannot move 'dogs' to a subdirectory of itself, 'dogs/dogs'\n"
          ]
        }
      ]
    },
    {
      "cell_type": "code",
      "source": [
        "!cd catdog/test1; mkdir dogs; mkdir cats\n",
        "!cd catdog/test1; ls | grep -e cat | xargs mv -t cats\n",
        "!cd catdog/test1; ls | grep -e dog | xargs mv -t dogs"
      ],
      "metadata": {
        "colab": {
          "base_uri": "https://localhost:8080/"
        },
        "id": "BinVwY6qAXbP",
        "outputId": "90ccce39-8a93-4f0a-8a57-b8b67cd216fe"
      },
      "execution_count": 7,
      "outputs": [
        {
          "output_type": "stream",
          "name": "stdout",
          "text": [
            "mv: cannot move 'cats' to a subdirectory of itself, 'cats/cats'\n",
            "mv: cannot move 'dogs' to a subdirectory of itself, 'dogs/dogs'\n"
          ]
        }
      ]
    },
    {
      "cell_type": "markdown",
      "source": [
        "##data preprocessing"
      ],
      "metadata": {
        "id": "QSRaKsmyBZbB"
      }
    },
    {
      "cell_type": "code",
      "source": [
        "from keras.preprocessing.image import ImageDataGenerator\n",
        "\n",
        "generator = ImageDataGenerator(rescale=1./255, validation_split = 0.2)\n",
        "\n",
        "train_gen = generator.flow_from_directory(directory='catdog/train', \n",
        "                                          target_size=(150, 150),\n",
        "                                          batch_size=100,\n",
        "                                          class_mode='binary',\n",
        "                                          shuffle=True,\n",
        "                                          subset='training')\n",
        "\n",
        "val_gen = generator.flow_from_directory(directory='catdog/train',\n",
        "                                        target_size=(150,150),\n",
        "                                        batch_size=100,\n",
        "                                        class_mode='binary',\n",
        "                                        shuffle=False,\n",
        "                                        subset='validation')\n",
        "# train_gen = generator.flow_from_directory('catdog/train', target_size=(150, 150),\n",
        "#                                           batch_size=100,\n",
        "#                                           class_mode='binary')"
      ],
      "metadata": {
        "colab": {
          "base_uri": "https://localhost:8080/"
        },
        "id": "eqDoDvmxBiqQ",
        "outputId": "cdc525c9-8ac2-4a69-bc8d-e4a2e59f2e6f"
      },
      "execution_count": 19,
      "outputs": [
        {
          "output_type": "stream",
          "name": "stdout",
          "text": [
            "Found 20000 images belonging to 2 classes.\n",
            "Found 5000 images belonging to 2 classes.\n"
          ]
        }
      ]
    },
    {
      "cell_type": "markdown",
      "source": [
        "##Visualizing images"
      ],
      "metadata": {
        "id": "VVzWzxM-DW2i"
      }
    },
    {
      "cell_type": "code",
      "source": [
        "x_batch, y_batch = next(train_gen)"
      ],
      "metadata": {
        "id": "rvu3pcrFDUk7"
      },
      "execution_count": 20,
      "outputs": []
    },
    {
      "cell_type": "code",
      "source": [
        "import matplotlib.pyplot as plt\n",
        "\n",
        "%matplotlib inline\n",
        "\n",
        "for i in range(len(x_batch)):\n",
        "  plt.imshow(x_batch[i])\n",
        "  plt.title(y_batch[i])\n",
        "  plt.show()"
      ],
      "metadata": {
        "id": "rRv2zSRNDruR"
      },
      "execution_count": null,
      "outputs": []
    },
    {
      "cell_type": "markdown",
      "source": [
        "##Build Model"
      ],
      "metadata": {
        "id": "XubjdC3tEuQa"
      }
    },
    {
      "cell_type": "code",
      "source": [
        "from keras.layers import *\n",
        "from keras.models import Model\n",
        
        "\n",
        "def build_model():\n",
        "  x = Input(shape=(150, 150, 3))\n",
        "  out = x\n",
        "  out = Conv2D(32, (3,3), activation='relu', padding='same')(out)\n",
        "  out = MaxPooling2D(pool_size=(2,2))(out)\n",
        "\n",
        "  out = Conv2D(64, (3,3), activation='relu', padding='same')(out)\n",
        "  out = MaxPooling2D(pool_size=(2,2))(out)\n",
        "\n",
        "  out = Conv2D(128, (3,3), activation='relu', padding='same')(out)\n",
        "  out = MaxPooling2D(pool_size=(2,2))(out)\n",
        "\n",
        "  out = Conv2D(256, (3,3), activation='relu', padding='same')(out)\n",
        "  out = MaxPooling2D(pool_size=(2,2))(out)\n",
        "\n",
        "  out = Flatten()(out)\n",
        "  out = Dense(512, activation='relu')(out)\n",
        "  out = Dense(1, activation='sigmoid')(out)\n",
        " \n",
        "  model = Model(x, out)\n",
        "  return model\n"
      ],
      "metadata": {
        "id": "IrISAsHMEsLO"
      },
      "execution_count": 31,
      "outputs": []
    },
    {
      "cell_type": "markdown",
      "source": [
        "SGD optimizer"
      ],
      "metadata": {
        "id": "bDPM5lqhaQqa"
      }
    },
    {
      "cell_type": "code",
      "source": [
        "model = build_model()\n",
        "model.compile(optimizer='sgd', loss='binary_crossentropy', metrics=['binary_accuracy'])\n",
        "model.summary()"
      ],
      "metadata": {
        "colab": {
          "base_uri": "https://localhost:8080/"
        },
        "id": "3G8y68lbE-5m",
        "outputId": "e9655699-aedb-4b34-90cf-f647ebeda842"
      },
      "execution_count": 35,
      "outputs": [
        {
          "output_type": "stream",
          "name": "stdout",
          "text": [
            "Model: \"model_7\"\n",
            "_________________________________________________________________\n",
            " Layer (type)                Output Shape              Param #   \n",
            "=================================================================\n",
            " input_8 (InputLayer)        [(None, 150, 150, 3)]     0         \n",
            "                                                                 \n",
            " conv2d_28 (Conv2D)          (None, 150, 150, 32)      896       \n",
            "                                                                 \n",
            " max_pooling2d_28 (MaxPoolin  (None, 75, 75, 32)       0         \n",
            " g2D)                                                            \n",
            "                                                                 \n",
            " conv2d_29 (Conv2D)          (None, 75, 75, 64)        18496     \n",
            "                                                                 \n",
            " max_pooling2d_29 (MaxPoolin  (None, 37, 37, 64)       0         \n",
            " g2D)                                                            \n",
            "                                                                 \n",
            " conv2d_30 (Conv2D)          (None, 37, 37, 128)       73856     \n",
            "                                                                 \n",
            " max_pooling2d_30 (MaxPoolin  (None, 18, 18, 128)      0         \n",
            " g2D)                                                            \n",
            "                                                                 \n",
            " conv2d_31 (Conv2D)          (None, 18, 18, 256)       295168    \n",
            "                                                                 \n",
            " max_pooling2d_31 (MaxPoolin  (None, 9, 9, 256)        0         \n",
            " g2D)                                                            \n",
            "                                                                 \n",
            " flatten_7 (Flatten)         (None, 20736)             0         \n",
            "                                                                 \n",
            " dense_14 (Dense)            (None, 512)               10617344  \n",
            "                                                                 \n",
            " dense_15 (Dense)            (None, 1)                 513       \n",
            "                                                                 \n",
            "=================================================================\n",
            "Total params: 11,006,273\n",
            "Trainable params: 11,006,273\n",
            "Non-trainable params: 0\n",
            "_________________________________________________________________\n"
          ]
        }
      ]
    },
    {
      "cell_type": "code",
      "source": [
        "import numpy as np\n",
        "\n",
        "hisotry = model.fit(\n",
        "    train_gen,\n",
        "    steps_per_epoch=int(np.ceil(20000 / float(100))),\n",
        "    epochs=10,\n",
        "    validation_data=val_gen,\n",
        "    validation_steps=int(np.ceil(5000 / float(100)))\n",
        ")"
      ],
      "metadata": {
        "colab": {
          "base_uri": "https://localhost:8080/"
        },
        "id": "hN9uVCE_FCsg",
        "outputId": "71c6f7af-ac7c-4bc3-ee16-29aedcb7d4c9"
      },
      "execution_count": 36,
      "outputs": [
        {
          "output_type": "stream",
          "name": "stdout",
          "text": [
            "Epoch 1/10\n",
            "200/200 [==============================] - 80s 394ms/step - loss: 0.6895 - binary_accuracy: 0.5323 - val_loss: 0.6853 - val_binary_accuracy: 0.5704\n",
            "Epoch 2/10\n",
            "200/200 [==============================] - 77s 385ms/step - loss: 0.6813 - binary_accuracy: 0.5864 - val_loss: 0.6778 - val_binary_accuracy: 0.5782\n",
            "Epoch 3/10\n",
            "200/200 [==============================] - 80s 399ms/step - loss: 0.6699 - binary_accuracy: 0.6007 - val_loss: 0.6592 - val_binary_accuracy: 0.6244\n",
            "Epoch 4/10\n",
            "200/200 [==============================] - 77s 386ms/step - loss: 0.6596 - binary_accuracy: 0.6054 - val_loss: 0.6482 - val_binary_accuracy: 0.6298\n",
            "Epoch 5/10\n",
            "200/200 [==============================] - 80s 401ms/step - loss: 0.6512 - binary_accuracy: 0.6136 - val_loss: 0.6568 - val_binary_accuracy: 0.5960\n",
            "Epoch 6/10\n",
            "200/200 [==============================] - 81s 404ms/step - loss: 0.6440 - binary_accuracy: 0.6226 - val_loss: 0.6434 - val_binary_accuracy: 0.6220\n",
            "Epoch 7/10\n",
            "200/200 [==============================] - 77s 385ms/step - loss: 0.6334 - binary_accuracy: 0.6356 - val_loss: 0.7202 - val_binary_accuracy: 0.5346\n",
            "Epoch 8/10\n",
            "200/200 [==============================] - 86s 428ms/step - loss: 0.6237 - binary_accuracy: 0.6503 - val_loss: 0.6071 - val_binary_accuracy: 0.6740\n",
            "Epoch 9/10\n",
            "200/200 [==============================] - 84s 422ms/step - loss: 0.6061 - binary_accuracy: 0.6709 - val_loss: 0.6099 - val_binary_accuracy: 0.6552\n",
            "Epoch 10/10\n",
            "200/200 [==============================] - 94s 470ms/step - loss: 0.5900 - binary_accuracy: 0.6811 - val_loss: 0.5689 - val_binary_accuracy: 0.7110\n"
          ]
        }
      ]
    },
    {
      "cell_type": "code",
      "source": [
        "loss = hisotry.history['loss']\n",
        "val_loss = hisotry.history['val_loss']\n",
        "\n",
        "acc = hisotry.history['binary_accuracy']\n",
        "val = hisotry.history['val_binary_accuracy']\n",
        "\n",
        "plt.figure(figsize=(8, 8))\n",
        "plt.subplot(1, 2, 1)\n",
        "plt.plot(range(10), acc, label='Training Accuracy')\n",
        "plt.plot(range(10), val, label='Validation Accuracy')\n",
        "plt.legend(loc='lower right')\n",
        "plt.title('Training and Validation Accuracy')\n",
        "\n",
        "plt.subplot(1, 2, 2)\n",
        "plt.plot(range(10), loss, label='Training Loss')\n",
        "plt.plot(range(10), val_loss, label='Validation Loss')\n",
        "plt.legend(loc='upper right')\n",
        "plt.title('Training and Validation Loss')\n",
        "plt.savefig('./foo.png')\n",
        "plt.show()"
      ],
      "metadata": {
        "colab": {
          "base_uri": "https://localhost:8080/",
          "height": 499
        },
        "id": "j0gIAJvoaLFP",
        "outputId": "26434179-0a76-4017-8700-4e09f9f24748"
      },
      "execution_count": 42,
      "outputs": [
        {
          "output_type": "display_data",
          "data": {
            "text/plain": [
              "<Figure size 576x576 with 2 Axes>"
            ],
            "image/png": "[encoded data removed]"
          },
          "metadata": {
            "needs_background": "light"
          }
        }
      ]
    },
    {
      "cell_type": "markdown",
      "source": [
        "Adam optimizer"
      ],
      "metadata": {
        "id": "UgqdakUSanjR"
      }
    },
    {
      "cell_type": "code",
      "source": [
        "model = build_model()\n",
        "model.compile(optimizer='adam', \n",
        "              loss='binary_crossentropy', \n",
        "              metrics=['binary_accuracy'])\n",
        "model.summary()"
      ],
      "metadata": {
        "colab": {
          "base_uri": "https://localhost:8080/"
        },
        "id": "CBK8NfKhIBqI",
        "outputId": "a7b1c424-48b9-4eb8-a898-5a8c9b8db57e"
      },
      "execution_count": 43,
      "outputs": [
        {
          "output_type": "stream",
          "name": "stdout",
          "text": [
            "Model: \"model_8\"\n",
            "_________________________________________________________________\n",
            " Layer (type)                Output Shape              Param #   \n",
            "=================================================================\n",
            " input_9 (InputLayer)        [(None, 150, 150, 3)]     0         \n",
            "                                                                 \n",
            " conv2d_32 (Conv2D)          (None, 150, 150, 32)      896       \n",
            "                                                                 \n",
            " max_pooling2d_32 (MaxPoolin  (None, 75, 75, 32)       0         \n",
            " g2D)                                                            \n",
            "                                                                 \n",
            " conv2d_33 (Conv2D)          (None, 75, 75, 64)        18496     \n",
            "                                                                 \n",
            " max_pooling2d_33 (MaxPoolin  (None, 37, 37, 64)       0         \n",
            " g2D)                                                            \n",
            "                                                                 \n",
            " conv2d_34 (Conv2D)          (None, 37, 37, 128)       73856     \n",
            "                                                                 \n",
            " max_pooling2d_34 (MaxPoolin  (None, 18, 18, 128)      0         \n",
            " g2D)                                                            \n",
            "                                                                 \n",
            " conv2d_35 (Conv2D)          (None, 18, 18, 256)       295168    \n",
            "                                                                 \n",
            " max_pooling2d_35 (MaxPoolin  (None, 9, 9, 256)        0         \n",
            " g2D)                                                            \n",
            "                                                                 \n",
            " flatten_8 (Flatten)         (None, 20736)             0         \n",
            "                                                                 \n",
            " dense_16 (Dense)            (None, 512)               10617344  \n",
            "                                                                 \n",
            " dense_17 (Dense)            (None, 1)                 513       \n",
            "                                                                 \n",
            "=================================================================\n",
            "Total params: 11,006,273\n",
            "Trainable params: 11,006,273\n",
            "Non-trainable params: 0\n",
            "_________________________________________________________________\n"
          ]
        }
      ]
    },
    {
      "cell_type": "code",
      "source": [
        "import numpy as np\n",
        "\n",
        "hisotry = model.fit(\n",
        "    train_gen,\n",
        "    steps_per_epoch=int(np.ceil(20000 / float(100))),\n",
        "    epochs=10,\n",
        "    validation_data=val_gen,\n",
        "    validation_steps=int(np.ceil(5000 / float(100)))\n",
        ")"
      ],
      "metadata": {
        "colab": {
          "base_uri": "https://localhost:8080/"
        },
        "id": "HIurpXI6NdqA",
        "outputId": "1c8fa742-b72c-47c9-b277-90ec8a1e72a6"
      },
      "execution_count": 44,
      "outputs": [
        {
          "output_type": "stream",
          "name": "stdout",
          "text": [
            "Epoch 1/10\n",
            "200/200 [==============================] - 83s 407ms/step - loss: 0.6473 - binary_accuracy: 0.6136 - val_loss: 0.5435 - val_binary_accuracy: 0.7216\n",
            "Epoch 2/10\n",
            "200/200 [==============================] - 78s 390ms/step - loss: 0.5254 - binary_accuracy: 0.7362 - val_loss: 0.4706 - val_binary_accuracy: 0.7732\n",
            "Epoch 3/10\n",
            "200/200 [==============================] - 86s 431ms/step - loss: 0.4375 - binary_accuracy: 0.7972 - val_loss: 0.4126 - val_binary_accuracy: 0.8118\n",
            "Epoch 4/10\n",
            "200/200 [==============================] - 79s 395ms/step - loss: 0.3691 - binary_accuracy: 0.8339 - val_loss: 0.3624 - val_binary_accuracy: 0.8420\n",
            "Epoch 5/10\n",
            "200/200 [==============================] - 77s 383ms/step - loss: 0.3132 - binary_accuracy: 0.8637 - val_loss: 0.4002 - val_binary_accuracy: 0.8120\n",
            "Epoch 6/10\n",
            "200/200 [==============================] - 86s 430ms/step - loss: 0.2649 - binary_accuracy: 0.8870 - val_loss: 0.2903 - val_binary_accuracy: 0.8762\n",
            "Epoch 7/10\n",
            "200/200 [==============================] - 78s 391ms/step - loss: 0.2171 - binary_accuracy: 0.9076 - val_loss: 0.3041 - val_binary_accuracy: 0.8728\n",
            "Epoch 8/10\n",
            "200/200 [==============================] - 82s 412ms/step - loss: 0.1630 - binary_accuracy: 0.9330 - val_loss: 0.3207 - val_binary_accuracy: 0.8706\n",
            "Epoch 9/10\n",
            "200/200 [==============================] - 78s 391ms/step - loss: 0.1255 - binary_accuracy: 0.9506 - val_loss: 0.2938 - val_binary_accuracy: 0.8856\n",
            "Epoch 10/10\n",
            "200/200 [==============================] - 77s 385ms/step - loss: 0.0992 - binary_accuracy: 0.9617 - val_loss: 0.3570 - val_binary_accuracy: 0.8780\n"
          ]
        }
      ]
    },
    {
      "cell_type": "code",
      "source": [
        "loss = hisotry.history['loss']\n",
        "val_loss = hisotry.history['val_loss']\n",
        "\n",
        "acc = hisotry.history['binary_accuracy']\n",
        "val = hisotry.history['val_binary_accuracy']\n",
        "\n",
        "plt.figure(figsize=(8, 8))\n",
        "plt.subplot(1, 2, 1)\n",
        "plt.plot(range(10), acc, label='Training Accuracy')\n",
        "plt.plot(range(10), val, label='Validation Accuracy')\n",
        "plt.legend(loc='lower right')\n",
        "plt.title('Training and Validation Accuracy')\n",
        "\n",
        "plt.subplot(1, 2, 2)\n",
        "plt.plot(range(10), loss, label='Training Loss')\n",
        "plt.plot(range(10), val_loss, label='Validation Loss')\n",
        "plt.legend(loc='upper right')\n",
        "plt.title('Training and Validation Loss')\n",
        "plt.savefig('./foo.png')\n",
        "plt.show()"
      ],
      "metadata": {
        "colab": {
          "base_uri": "https://localhost:8080/",
          "height": 499
        },
        "id": "AUbBuO8Cc9Fa",
        "outputId": "7f2f9b2f-297b-4b1f-eb38-4dad27b35438"
      },
      "execution_count": 45,
      "outputs": [
        {
          "output_type": "display_data",
          "data": {
            "text/plain": [
              "<Figure size 576x576 with 2 Axes>"
            ],
            "image/png": "[encoded data removed]"
          },
          "metadata": {
            "needs_background": "light"
          }
        }
      ]
    }
  ]
}
